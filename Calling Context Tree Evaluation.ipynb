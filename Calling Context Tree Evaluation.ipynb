{
 "cells": [
  {
   "cell_type": "code",
   "execution_count": 2,
   "id": "4eaf4594",
   "metadata": {},
   "outputs": [
    {
     "name": "stdout",
     "output_type": "stream",
     "text": [
      "The hatchet.vis.loader extension is already loaded. To reload it, use:\n",
      "  %reload_ext hatchet.vis.loader\n"
     ]
    }
   ],
   "source": [
    "import os, sys\n",
    "from IPython.display import HTML, display\n",
    "\n",
    "# set path to hatchet virtual env\n",
    "# sys.path.append(\"/usr/gapps/spot/dev/hatchet-venv/x86_64/lib/python3.7/site-packages\")\n",
    "# set path to hatchet version with interactive vis enhancements\n",
    "# sys.path.append(\"/usr/gapps/spot/dev/hatchet-interactive-vis/x86_64\")\n",
    "\n",
    "import hatchet as ht\n",
    "%load_ext hatchet.vis.loader"
   ]
  },
  {
   "cell_type": "code",
   "execution_count": null,
   "id": "f39b9a80",
   "metadata": {},
   "outputs": [],
   "source": []
  }
 ],
 "metadata": {
  "kernelspec": {
   "display_name": "Python 3",
   "language": "python",
   "name": "python3"
  },
  "language_info": {
   "codemirror_mode": {
    "name": "ipython",
    "version": 3
   },
   "file_extension": ".py",
   "mimetype": "text/x-python",
   "name": "python",
   "nbconvert_exporter": "python",
   "pygments_lexer": "ipython3",
   "version": "3.8.10"
  }
 },
 "nbformat": 4,
 "nbformat_minor": 5
}
